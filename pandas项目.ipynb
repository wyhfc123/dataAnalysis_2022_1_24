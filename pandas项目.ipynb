{
 "cells": [
  {
   "cell_type": "code",
   "execution_count": null,
   "metadata": {
    "collapsed": true
   },
   "outputs": [],
   "source": [
    "\"\"\"\n",
    "需求如下：\n",
    "    1. 读取数据，从用户表读取用户信息、同样方法，导入电影评分表、电影数据表。\n",
    "    2. 合并数据表\n",
    "    3. 对数据初步描述分析\n",
    "    4. 查看每一部电影不同性别的平均评分并计算分歧差值，之后排序\n",
    "    5. 算出每部电影平均得分并对其进行排序\n",
    "    6. 查看评分次数多的电影并进行排序\n",
    "    7. 过滤掉评分条目数不足250条的电影\n",
    "    8. 评分最高的十部电影\n",
    "    9. 查看不同年龄的分布情况并且采用直方图进行可视化\n",
    "    10. 在原数据中标记出用户位于的年龄分组\n",
    "    11. 可视化显示movies_ratings中不同类型电影的频数\n",
    "\"\"\"\n",
    "import pandas as pd\n",
    "\n",
    "\n"
   ]
  }
 ],
 "metadata": {
  "kernelspec": {
   "display_name": "Python 3",
   "language": "python",
   "name": "python3"
  },
  "language_info": {
   "codemirror_mode": {
    "name": "ipython",
    "version": 2
   },
   "file_extension": ".py",
   "mimetype": "text/x-python",
   "name": "python",
   "nbconvert_exporter": "python",
   "pygments_lexer": "ipython2",
   "version": "2.7.6"
  }
 },
 "nbformat": 4,
 "nbformat_minor": 0
}