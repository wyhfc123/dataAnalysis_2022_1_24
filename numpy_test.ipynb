{
 "cells": [
  {
   "cell_type": "code",
   "execution_count": 2,
   "metadata": {
    "collapsed": true
   },
   "outputs": [
    {
     "data": {
      "text/plain": "array([2, 5])"
     },
     "execution_count": 2,
     "metadata": {},
     "output_type": "execute_result"
    }
   ],
   "source": [
    "import numpy as np\n",
    "x=np.array([[1,2,3],[4,5,6]],np.int32)\n",
    "# x.shape\n",
    "# x.dtype\n",
    "# x[1,1]\n",
    "y=x[:,1]\n",
    "y"
   ]
  },
  {
   "cell_type": "code",
   "execution_count": 3,
   "outputs": [
    {
     "data": {
      "text/plain": "array([7, 5])"
     },
     "execution_count": 3,
     "metadata": {},
     "output_type": "execute_result"
    }
   ],
   "source": [
    "y[0] = 7\n",
    "y"
   ],
   "metadata": {
    "collapsed": false,
    "pycharm": {
     "name": "#%%\n"
    }
   }
  },
  {
   "cell_type": "code",
   "execution_count": 4,
   "outputs": [
    {
     "data": {
      "text/plain": "array([[1, 7, 3],\n       [4, 5, 6]])"
     },
     "execution_count": 4,
     "metadata": {},
     "output_type": "execute_result"
    }
   ],
   "source": [
    "x"
   ],
   "metadata": {
    "collapsed": false,
    "pycharm": {
     "name": "#%%\n"
    }
   }
  },
  {
   "cell_type": "code",
   "execution_count": 38,
   "outputs": [],
   "source": [
    "# x.flags #获取内存布局信息\n",
    "# x.shape   #数组维度的元组\n",
    "# x.strides   #遍历数组时每个维度中的字节元组  (12, 4)\n",
    "# x.ndim   #数组维度\n",
    "# x.data   #Python缓存区对象指向数组的数据的开头\n",
    "# x.size   #数组中元素的个数\n",
    "# x.itemsize   #一个数组元素的长度，以字节为单位   4\n",
    "# x.nbytes   #数组元素消耗的总字节数\n",
    "x.base   #如果内存来自其他对象，则为基础对象"
   ],
   "metadata": {
    "collapsed": false,
    "pycharm": {
     "name": "#%%\n"
    }
   }
  },
  {
   "cell_type": "code",
   "execution_count": 5,
   "outputs": [
    {
     "data": {
      "text/plain": "array([[1, 7, 3],\n       [4, 5, 6]])"
     },
     "execution_count": 5,
     "metadata": {},
     "output_type": "execute_result"
    }
   ],
   "source": [
    "# 其他属性\n",
    "# ndarray.T\t转置数组。\n",
    "x.T\n",
    "# ndarray.real\t数组的真实部分。\n",
    "x.real\n",
    "# ndarray.imag\t数组的虚部。\n",
    "x.imag\n",
    "# ndarray.flat\t数组上的一维迭代器。\n",
    "x.flat    #<numpy.flatiter at 0x2ba3c4b78d0>\n",
    "\n",
    "# ndarray.ctypes\t一个简化数组与ctypes模块交互的对象。\n",
    "x.ctypes     #<numpy.core._internal._ctypes at 0x2ba3fa5ca08>\n",
    "x"
   ],
   "metadata": {
    "collapsed": false,
    "pycharm": {
     "name": "#%%\n"
    }
   }
  },
  {
   "cell_type": "code",
   "execution_count": 8,
   "outputs": [
    {
     "name": "stdout",
     "output_type": "stream",
     "text": [
      "[[1 7 3]\n",
      " [4 5 6]] 85\n"
     ]
    },
    {
     "data": {
      "text/plain": "array([[1, 7, 3],\n       [4, 5, 6]])"
     },
     "execution_count": 8,
     "metadata": {},
     "output_type": "execute_result"
    }
   ],
   "source": [
    "\"\"\"数组方法\"\"\"\n",
    "\"\"\"\n",
    "numpy：\n",
    "    all，any，argmax， argmin，argpartition，argsort，choose，\n",
    "    clip，compress，copy，cumprod， cumsum，diagonal，imag，max，\n",
    "    mean，min，nonzero，partition， prod，ptp，put，ravel，real，\n",
    "    repeat，reshape，round， searchsorted，sort，squeeze，std，\n",
    "    sum，swapaxes，take，trace， transpose，var\n",
    "\"\"\"\n",
    "#数组转换\n",
    "\n",
    "#参考文档：https://numpy.org/devdocs/reference/generated/numpy.ndarray.item.html#numpy.ndarray.item\n",
    "#ndarray.item(*args)  将数组元素复制到标准的Python标量并返回它\n",
    "# x.item(1)\n",
    "# x.item(1,2)   #数字为一个，则代表数组下标，如果为两个数，则代表行列索引\n",
    "\n",
    "#参考文档：https://numpy.org/devdocs/reference/generated/numpy.ndarray.tolist.html#numpy.ndarray.tolist\n",
    "# ndarray.tolist()  将数组作为a.ndim-levels深层嵌套的Python标量列表返回\n",
    "# x.tolist()\n",
    "\n",
    "#参考文档：https://numpy.org/devdocs/reference/generated/numpy.ndarray.itemset.html#numpy.ndarray.itemset\n",
    "# ndarray.itemset(*args)  将标量插入数组（如果可能，将标量转化为数组的dtype类型）\n",
    "# x.itemset(x.shape[0],x.shape[1])\n",
    "# x.item(1,2)\n",
    "\n",
    "#参考文档：https://numpy.org/devdocs/reference/generated/numpy.ndarray.tostring.html#numpy.ndarray.tostring\n",
    "# ndarray.tostring([order]）  构造包含数组中原始数据字节的Python字节\n",
    "# x.tostring(\"A\")   # order must be one of 'C', 'F', 'A', or 'K'\n",
    "\n",
    "#参考文档：https://numpy.org/devdocs/reference/generated/numpy.ndarray.tobytes.html#numpy.ndarray.tobytes\n",
    "# ndarray.tobytes([order]）  构造包含数组中原始数据字节的Python字节\n",
    "# x.tobytes(\"A\")\n",
    "\n",
    "#参考文档：https://numpy.org/devdocs/reference/generated/numpy.ndarray.tofile.html#numpy.ndarray.tofile\n",
    "# ndarray.tofile(fid[, sep, format]) 将数组作为文本或二进制写入文件（默认）。\n",
    "# x.tofile(\"numpy_data/array.txt\",sep=\",\",format=\"%.2f\")\n",
    "\n",
    "#参考文档：https://numpy.org/devdocs/reference/generated/numpy.ndarray.dump.html#numpy.ndarray.dump\n",
    "# ndarray.dump(file)  将数组的pickle转储到指定的文件\n",
    "# x.dump(\"numpy_data/array_pickle.txt\")\n",
    "\n",
    "#参考文档：https://numpy.org/devdocs/reference/generated/numpy.ndarray.astype.html#numpy.ndarray.astype\n",
    "# ndarray.astype(dtype[, order, casting, …])  数组的副本强制转换为指定类型\n",
    "# x.astype(np.float32)\n",
    "\n",
    "#参考文档：https://numpy.org/devdocs/reference/generated/numpy.ndarray.byteswap.html#numpy.ndarray.byteswap\n",
    "# ndarray.byteswap([inplace])  交换数组元素的字节\n",
    "# x.byteswap(4)    #inplace：字节数\n",
    "\n",
    "#参考文档：https://numpy.org/devdocs/reference/generated/numpy.ndarray.copy.html#numpy.ndarray.copy\n",
    "# ndarray.copy([order])  返回数组的副本。\n",
    "# x.copy()\n",
    "\n",
    "\n",
    "#参考文档：https://numpy.org/devdocs/reference/generated/numpy.ndarray.view.html#numpy.ndarray.view\n",
    "# ndarray.view([dtype, type]) 具有相同数据的数组的新视图\n",
    "# x.view(int)\n",
    "# x.view(np.int32)\n",
    "\n",
    "#参考文档：https://numpy.org/devdocs/reference/generated/numpy.ndarray.getfield.html#numpy.ndarray.getfield\n",
    "#ndarray.getfield(dtype[,offset]) 返回给定数组的字段作为特定的类型\n",
    "# x.getfield(np.int,0)\n",
    "\n",
    "#参考文档：https://numpy.org/devdocs/reference/generated/numpy.ndarray.setflags.html#numpy.ndarray.setflags\n",
    "# ndarray.setflags([write, align, uic]) 分别设置数组标志 WRITEABLE、ALIGNED、WRITEBACKIFCOPY。\n",
    "\n",
    "# x.setflags()  #\n",
    "\n",
    "#参考文档：https://numpy.org/devdocs/reference/generated/numpy.ndarray.fill.html#numpy.ndarray.fill\n",
    "# ndarray.fill(value)\t使用标量值填充数组。\n",
    "# x.fill(0)\n",
    "# x\n",
    "x"
   ],
   "metadata": {
    "collapsed": false,
    "pycharm": {
     "name": "#%%\n"
    }
   }
  },
  {
   "cell_type": "code",
   "execution_count": 26,
   "outputs": [
    {
     "name": "stdout",
     "output_type": "stream",
     "text": [
      "[[[1 2 3]\n",
      "  [4 5 6]]\n",
      "\n",
      " [[0 0 0]\n",
      "  [3 2 1]]]\n"
     ]
    },
    {
     "data": {
      "text/plain": "array([[0, 0, 0],\n       [3, 2, 1]])"
     },
     "execution_count": 26,
     "metadata": {},
     "output_type": "execute_result"
    }
   ],
   "source": [
    "# 形状操作\n",
    "#参考文档：https://numpy.org/devdocs/reference/generated/numpy.ndarray.reshape.html#numpy.ndarray.reshape\n",
    "# ndarray.reshape(shape[, order])\t返回包含具有新形状的相同数据的数组。\n",
    "# x.reshape(1,6) #返回数组，对原数组不进行修改\n",
    "\n",
    "# 参考文档：https://numpy.org/devdocs/reference/generated/numpy.ndarray.resize.html#numpy.ndarray.resize\n",
    "# ndarray.resize(new_shape[, refcheck])\t就地更改数组的形状和大小。\n",
    "# x.resize(3,2)   #不返回数组，对原数组进行修改\n",
    "# x\n",
    "\n",
    "# 参考文档：https://numpy.org/devdocs/reference/generated/numpy.ndarray.transpose.html#numpy.ndarray.transpose\n",
    "# ndarray.transpose(*axes) 返回轴转置的数组视图\n",
    "# x.transpose()    #等于x.T\n",
    "\n",
    "\n",
    "# ndarray.swapaxes(axis1:int, axis2:int)    返回数组的视图，其中axis1轴和axis轴互换。\n",
    "# print(x)\n",
    "# x.swapaxes(0,1)\n",
    "\n",
    "# t=np.array([[[1,2,3],[4,5,6]],[[0,0,0],[3,2,1]]])\n",
    "# print(t)\n",
    "# t.swapaxes(0,1)\n",
    "# t"
   ],
   "metadata": {
    "collapsed": false,
    "pycharm": {
     "name": "#%%\n"
    }
   }
  },
  {
   "cell_type": "code",
   "execution_count": 12,
   "outputs": [
    {
     "data": {
      "text/plain": "<Figure size 432x288 with 1 Axes>",
      "image/png": "[encoded data removed]"
     },
     "metadata": {},
     "output_type": "display_data"
    }
   ],
   "source": [
    "\"\"\"\n",
    "    加载文件\n",
    "    直接读取该文件并且获取ndarray数组对象\n",
    "    返回值：\n",
    "        unpack = False              返回一个二维数组\n",
    "        unpack = False              多个一维数组\n",
    "    np.loadtxt(fname,delimiter,usecols,unpack,dtype,converters)\n",
    "        fname                   文件路径\n",
    "        delimiter               分隔符\n",
    "        usecols=(1,3)           读取1、3两列，下标从0开始\n",
    "        unpack                  是否按列拆包\n",
    "        dtype                   指定返回每一列数组中元素的类型\n",
    "        converters={1:func}     转换器函数字典\n",
    "\n",
    "\"\"\"\n",
    "import numpy as np\n",
    "from datetime import datetime\n",
    "def dmy2ymd(dmy):\n",
    "    dmy = str(dmy,encoding=\"utf-8\")\n",
    "    time = datetime.strptime(dmy,\"%d-%m-%Y\").date()\n",
    "    t = time.strftime(\"%Y-%m-%d\")\n",
    "    return t\n",
    "dates,opening_prices,highest_prices,lowest_prices,close_prices=np.loadtxt(fname=\"da_data/aapl.csv\",delimiter=\",\",usecols=(1,3,4,5,6),dtype=\"M8[D],f8,f8,f8,f8\",unpack=True,converters={1:dmy2ymd})\n",
    "# print(res)\n",
    "#绘制直线图\n",
    "from matplotlib import pyplot as plt\n",
    "from matplotlib import dates as dts\n",
    "plt.figure(\"AAPL\",facecolor=\"lightgray\")\n",
    "plt.title(\"AAPL\",fontsize=20)\n",
    "plt.xlabel(\"Date\",fontsize=14)\n",
    "plt.ylabel(\"closing price\",fontsize = 14)\n",
    "plt.grid(linestyle=\":\")\n",
    "#拿到坐标轴\n",
    "ax = plt.gca()\n",
    "#设置主刻度定位器为周定位器（每周一显示主刻度文本）\n",
    "ax.xaxis.set_major_locator( dts.WeekdayLocator(byweekday=dts.MO) )\n",
    "ax.xaxis.set_major_formatter(dts.DateFormatter('%d %b %Y'))\n",
    "#设置次刻度定位器为日定位器\n",
    "ax.xaxis.set_minor_locator(dts.DayLocator())\n",
    "plt.tick_params(labelsize=8)\n",
    "dates = dates.astype(dts.datetime.datetime)\n",
    "plt.plot(dates, opening_prices, color='dodgerblue',\n",
    "\t\tlinestyle='-')\n",
    "plt.gcf().autofmt_xdate()\n",
    "plt.show()"
   ],
   "metadata": {
    "collapsed": false,
    "pycharm": {
     "name": "#%%\n"
    }
   }
  },
  {
   "cell_type": "code",
   "execution_count": 1,
   "outputs": [
    {
     "name": "stderr",
     "output_type": "stream",
     "text": [
      "No artists with labels found to put in legend.  Note that artists whose label start with an underscore are ignored when legend() is called with no argument.\n"
     ]
    },
    {
     "data": {
      "text/plain": "<Figure size 432x288 with 1 Axes>",
      "image/png": "[encoded data removed]"
     },
     "metadata": {},
     "output_type": "display_data"
    }
   ],
   "source": [
    "\"\"\"\n",
    "    k线图的绘制\n",
    "\"\"\"\n",
    "import numpy as np\n",
    "from datetime import datetime\n",
    "def dmy2ymd(dmy):\n",
    "    dmy = str(dmy,encoding=\"utf-8\")\n",
    "    time = datetime.strptime(dmy,\"%d-%m-%Y\").date()\n",
    "    t = time.strftime(\"%Y-%m-%d\")\n",
    "    return t\n",
    "dates,opening_prices,highest_prices,lowest_prices,close_prices=np.loadtxt(fname=\"da_data/aapl.csv\",delimiter=\",\",usecols=(1,3,4,5,6),dtype=\"M8[D],f8,f8,f8,f8\",unpack=True,converters={1:dmy2ymd})\n",
    "# print(res)\n",
    "#绘制直线图\n",
    "from matplotlib import pyplot as plt\n",
    "from matplotlib import dates as dts\n",
    "plt.figure(\"AAPL\",facecolor=\"lightgray\")\n",
    "plt.title(\"AAPL\",fontsize=20)\n",
    "plt.xlabel(\"Date\",fontsize=14)\n",
    "plt.ylabel(\"closing price\",fontsize = 14)\n",
    "plt.grid(linestyle=\":\")\n",
    "#拿到坐标轴\n",
    "ax = plt.gca()\n",
    "#设置主刻度定位器为周定位器（每周一显示主刻度文本）\n",
    "ax.xaxis.set_major_locator( dts.WeekdayLocator(byweekday=dts.MO) )\n",
    "ax.xaxis.set_major_formatter(dts.DateFormatter('%d %b %Y'))\n",
    "#设置次刻度定位器为日定位器\n",
    "ax.xaxis.set_minor_locator(dts.DayLocator())\n",
    "plt.tick_params(labelsize=8)\n",
    "dates = dates.astype(dts.datetime.datetime)\n",
    "plt.plot(dates, close_prices, color='dodgerblue',\n",
    "\t\tlinestyle='--',linewidth=2,alpha=0.3)\n",
    "#整理颜色\n",
    "rise = close_prices > opening_prices\n",
    "# 第一种方法\n",
    "# color = [\"red\" if c else \"green\" for c in rise]\n",
    "# print(color)\n",
    "# 第二种利用掩码\n",
    "color = np.zeros(rise.size,dtype=\"U5\")\n",
    "color[:] = \"green\"\n",
    "color[rise] = \"white\"\n",
    "\n",
    "\n",
    "edgecolor = [\"red\" if c else \"green\" for c in rise]\n",
    "#绘制实体\n",
    "# plt.bar(dates,close_prices-opening_prices,color=color,linewidth=0.8,bottom=opening_prices,edgecolor=\"black\",zorder=3)\n",
    "plt.bar(dates,close_prices-opening_prices,linewidth=0.8,color=color,bottom=opening_prices,edgecolor=edgecolor,zorder=3)\n",
    "#绘制影线\n",
    "plt.vlines(dates,ymin=lowest_prices,ymax=highest_prices,color=edgecolor)\n",
    "\n",
    "plt.legend()\n",
    "plt.gcf().autofmt_xdate()\n",
    "plt.show()\n"
   ],
   "metadata": {
    "collapsed": false,
    "pycharm": {
     "name": "#%%\n"
    }
   }
  }
 ],
 "metadata": {
  "kernelspec": {
   "display_name": "Python 3",
   "language": "python",
   "name": "python3"
  },
  "language_info": {
   "codemirror_mode": {
    "name": "ipython",
    "version": 2
   },
   "file_extension": ".py",
   "mimetype": "text/x-python",
   "name": "python",
   "nbconvert_exporter": "python",
   "pygments_lexer": "ipython2",
   "version": "2.7.6"
  }
 },
 "nbformat": 4,
 "nbformat_minor": 0
}