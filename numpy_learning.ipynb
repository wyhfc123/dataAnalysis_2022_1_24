{
 "cells": [
  {
   "cell_type": "code",
   "execution_count": 44,
   "metadata": {
    "collapsed": true
   },
   "outputs": [],
   "source": [
    "import numpy as np\n",
    "arr=np.array([1,2,3,4,5,6])\n",
    "# print(arr,type(arr))\n",
    "# print(arr.shape)   #shape维度\n",
    "# arr.shape = (2,3)\n",
    "# print(arr.shape)\n",
    "\n",
    "# arr*3    #数组中每一个元素都*3   （跟线性代数规则一致）\n",
    "# arr+3    #数组中每一个元素都+3   （跟线性代数规则一致）\n",
    "# arr-3    #数组中每一个元素都-3   （跟线性代数规则一致）\n",
    "# arr/3    #数组中每一个元素都/3   （跟线性代数规则一致）\n",
    "# arr[arr>3]\n",
    "# print(arr + arr)\n",
    "# s=np.ones(5) /5\n",
    "# np.zeros_like(s,dtype=np.uint)\n",
    "# arr = arr.reshape(2,3)\n",
    "# arr = arr.astype(np.float32)   #修改数据类型：返回一个新数组\n",
    "# arr.ndim\n",
    "# print(len(arr))\n",
    "# arr[:,1]\n",
    "# arr.shape = (2,3)\n",
    "# arr\n",
    "# arr.shape = (3,2)\n",
    "# arr\n",
    "\n",
    "# a=np.arange(0,10).reshape(2,5)\n",
    "# a.dtype = \"float32\"  #强转类型，数据错误(错误的)\n",
    "# a.size   #返回元素的个数\n",
    "\n",
    "# a\n",
    "# print(len(a))\n",
    "\n",
    "# arr1 = np.arange(1,19)\n",
    "# arr1.shape=(3,2,3)\n",
    "# arr1\n",
    "# arr1[0,1,0]\n",
    "\n",
    "# arr.astype(np.str_)\n",
    "# arr.astype(np.bool_)\n",
    "#自定义复合数据类型\n",
    "data=[\n",
    "    (\"zs\",[90,80,85],15),\n",
    "    (\"ls\",[92,81,83],16),\n",
    "    (\"ww\",[95,85,95],15),\n",
    "]\n",
    "#第一种设置dtype方式\n",
    "# a = np.array(data,dtype=\"U3,3int32,int32\")\n",
    "# a = np.array(data)\n",
    "# a\n",
    "#第二种设置dtype方式\n",
    "# a = np.array(data,dtype=[\n",
    "#                         #别名,类型 ,占内存字节\n",
    "#                         (\"name\",\"str_\",2),\n",
    "#                         (\"scores\",\"int32\",3),\n",
    "#                         (\"age\",\"int32\",1),\n",
    "#                          ])\n",
    "# a\n",
    "# a[\"scores\"]\n",
    "# a[2][\"age\"]\n",
    "\n",
    "#第三种设置dtype的方式\n",
    "a=np.array(data,dtype={\n",
    "    \"names\":[\"name\",\"scores\",\"age\"],    #别名\n",
    "    \"formats\":[\"U3\",\"3int32\",\"int32\"]   #类型名\n",
    "})\n",
    "# a[0][\"name\"]\n",
    "\n",
    "##第四种设置dtype的方式\n",
    "a=np.array(data,dtype={\n",
    "    #别名:(类型,字节偏移量)\n",
    "    'names':(\"U3\",0),\n",
    "    'scores':(\"3int32\",16),\n",
    "    'ages':(\"int32\",28),\n",
    "})\n",
    "a\n",
    "# a.itemsize\n",
    "#第五种设置dtype的方式\n",
    "a=np.array([0x1234,0x5667],dtype=(\n",
    "    \"u2\",{\n",
    "        \"lowc\":(\"u1\",0),\n",
    "        \"hignc\":(\"u1\",1),\n",
    "    }))\n",
    "a\n",
    "\n",
    "#日期数据类型\n",
    "dates=[\"2021-01-01\",\"2011\",\"2011-02\",\"2011-01-01\",\"2021-01-01 10:10:00\"]\n",
    "a=np.array(dates)\n",
    "\n",
    "\n",
    "# dates = a.astype(\"M8[D]\")\n",
    "# # dates = a.astype(\"M8[s]\")\n",
    "# dates\n",
    "# print(dates[1] - dates[2])\n"
   ]
  },
  {
   "cell_type": "code",
   "execution_count": 45,
   "outputs": [],
   "source": [
    "a=np.arange(12)\n",
    "a.\n",
    "#返回新数组，和原数组类似于浅拷贝(当一方数据改变，另一方数据也会跟着改变)\n",
    "b=a.reshape(3,4)\n",
    "# b[0,0] =200\n",
    "# print(a)\n",
    "# print(b)\n",
    "# b.ravel()\n",
    "# b[0,0] =300\n",
    "# print(a)\n",
    "# print(b)\n",
    "\n",
    "##返回新数组，和原数组类似于深拷贝(当一方数据改变，另一方数据不会跟着改变)\n",
    "# c=b.flatten()\n",
    "# b[2,3] = 700\n",
    "# print(b)\n",
    "# print(c)\n",
    "\n",
    "#不返回新数组，直接修改原数组\n",
    "# b.shape=(2,6)\n",
    "# b\n",
    "# b.resize((3,4))\n",
    "# b"
   ],
   "metadata": {
    "collapsed": false,
    "pycharm": {
     "name": "#%%\n"
    }
   }
  },
  {
   "cell_type": "code",
   "execution_count": 46,
   "outputs": [
    {
     "name": "stdout",
     "output_type": "stream",
     "text": [
      "[[[ 0  1]\n",
      "  [ 2  3]\n",
      "  [ 4  5]\n",
      "  [ 6  7]\n",
      "  [ 8  9]]\n",
      "\n",
      " [[10 11]\n",
      "  [12 13]\n",
      "  [14 15]\n",
      "  [16 17]\n",
      "  [18 19]]]\n"
     ]
    },
    {
     "data": {
      "text/plain": "array([[[3],\n        [5],\n        [7],\n        [9]]])"
     },
     "execution_count": 46,
     "metadata": {},
     "output_type": "execute_result"
    }
   ],
   "source": [
    "#切片\n",
    "#数组对象[起始位置:终止位置:步长,...]\n",
    "# arr = np.arange(20).reshape(4,5)\n",
    "# print(arr)\n",
    "# arr[0:3:2,0:2:1]\n",
    "\n",
    "arr = np.arange(20).reshape(2,5,2)\n",
    "print(arr)\n",
    "arr[:1,1:,1:3:1]"
   ],
   "metadata": {
    "collapsed": false,
    "pycharm": {
     "name": "#%%\n"
    }
   }
  },
  {
   "cell_type": "code",
   "execution_count": 47,
   "outputs": [],
   "source": [
    "# ndarray数组的掩码操作\n",
    "# a = np.arange(1,10)\n",
    "# mask = [True,False,True,False,True,False,True,False,True]\n",
    "# a[mask]  #[1, 3, 5, 7, 9] 通过mask对象选取a数组当中的数据\n"
   ],
   "metadata": {
    "collapsed": false,
    "pycharm": {
     "name": "#%%\n"
    }
   }
  },
  {
   "cell_type": "code",
   "execution_count": 48,
   "outputs": [
    {
     "name": "stdout",
     "output_type": "stream",
     "text": [
      "[ 0 21 42 63 84]\n"
     ]
    },
    {
     "data": {
      "text/plain": "array(['MI', 'Apple', 'Oppo', 'Mate30 PRO', 'Vivo'], dtype='<U10')"
     },
     "execution_count": 48,
     "metadata": {},
     "output_type": "execute_result"
    }
   ],
   "source": [
    "#基于bool数组的掩码\n",
    "#输出100以内3的倍数\n",
    "arr = np.arange(100)\n",
    "# print(arr[arr % 3 == 0])\n",
    "print(arr[(arr % 3 == 0) & (arr %7 ==0)])\n",
    "#基于索引的掩码\n",
    "name_phone = np.array([\"Apple\",\"MI\",\"Mate30 PRO\",\"Oppo\",\"Vivo\"])\n",
    "rank_num = [1,0,3,2,4]\n",
    "name_phone[rank_num]"
   ],
   "metadata": {
    "collapsed": false,
    "pycharm": {
     "name": "#%%\n"
    }
   }
  },
  {
   "cell_type": "code",
   "execution_count": 2,
   "outputs": [
    {
     "name": "stdout",
     "output_type": "stream",
     "text": [
      "[[1 2 3]\n",
      " [4 5 6]]\n",
      "[[ 7  8  9]\n",
      " [10 11 12]]\n",
      "[[ 1  2  3  7  8  9]\n",
      " [ 4  5  6 10 11 12]] 166\n",
      "[[ 1  2  3  4  5  6  7  8]\n",
      " [ 9 10 11 12 13 14 15 16]] 211\n",
      "[[ 1  9]\n",
      " [ 2 10]\n",
      " [ 3 11]\n",
      " [ 4 12]\n",
      " [ 5 13]\n",
      " [ 6 14]\n",
      " [ 7 15]\n",
      " [ 8 16]] 213\n"
     ]
    }
   ],
   "source": [
    "#多维数组的组合和拆分\n",
    "import numpy as np\n",
    "\n",
    "a= np.arange(1,7).reshape(2,3)\n",
    "b = np.arange(7,13).reshape(2,3)\n",
    "print(a)\n",
    "print(b)\n",
    "#水平方向组合\n",
    "d=np.hstack((a,b))\n",
    "print(d,166)\n",
    "\n",
    "#垂直方向组合（生成新数组）\n",
    "e=np.vstack((a,b))\n",
    "\n",
    "\n",
    "#水平方向拆分\n",
    "k,l=np.hsplit(d,2)\n",
    "# print(k,l)\n",
    "\n",
    "#垂直方向拆分(生成两个数组)\n",
    "# i,j=np.vsplit(e,2)\n",
    "# print(i,j)\n",
    "#深度方向操作(三维)\n",
    "#深度方向组合\n",
    "s=np.dstack((a,b))\n",
    "#深度方向拆分\n",
    "l1,l2=np.dsplit(s,2)\n",
    "# print(l1,l2)\n",
    "#多维数组组合与拆分的相关函数\n",
    "#通过axis作为关键字参数指定组合的方向，取值如下：\n",
    "#若待组合的数组都是二维数组:\n",
    "    # 0 :垂直方向组合\n",
    "    # 1 :水平方向组合\n",
    "#若待组合的数组都是三维数组:\n",
    "    # 0 :垂直方向组合\n",
    "    # 1 :水平方向组合\n",
    "    # 2 :深度方向组合\n",
    "np.concatenate((a,b),axis=0)\n",
    "np.split(d,2,axis=0)\n",
    "\n",
    "#长度不等的数组组合:\n",
    "a= np.arange(1,6)\n",
    "b= np.arange(1,5)\n",
    "#填充b数组使其长度与a相同\n",
    "'''\n",
    "    pad_width:\n",
    "            0:往头部补0个元素\n",
    "            1:往尾部补1个元素\n",
    "'''\n",
    "b= np.pad(b,pad_width=(0,1),mode=\"constant\",constant_values=-1)\n",
    "np.vstack((a,b))\n",
    "\n",
    "#简单的一维数组组合方案\n",
    "a = np.arange(1,9)\n",
    "b = np.arange(9,17)\n",
    "c = np.row_stack((a,b))\n",
    "print(c,211)\n",
    "d   = np.column_stack((a,b))\n",
    "print(d,213)\n",
    "\n",
    "# np.stack((a,b),axis=1)"
   ],
   "metadata": {
    "collapsed": false,
    "pycharm": {
     "name": "#%%\n"
    }
   }
  },
  {
   "cell_type": "code",
   "execution_count": 50,
   "outputs": [
    {
     "name": "stdout",
     "output_type": "stream",
     "text": [
      "(3, 3)\n",
      "complex128\n",
      "9\n",
      "2\n",
      "16\n",
      "144\n",
      "[[1. 2. 3.]\n",
      " [4. 5. 6.]\n",
      " [7. 8. 9.]]\n",
      "[[1. 4. 7.]\n",
      " [2. 5. 8.]\n",
      " [3. 6. 9.]]\n",
      "[[1.+1.j 4.+2.j 7.+3.j]\n",
      " [2.+4.j 5.+5.j 8.+6.j]\n",
      " [3.+7.j 6.+8.j 9.+9.j]]\n",
      "<numpy.flatiter object at 0x0000013D7F618460>\n"
     ]
    }
   ],
   "source": [
    "#ndarray类的其他属性\n",
    "# shape - 维度\n",
    "# dtype - 元素类型\n",
    "# size -  元素数量\n",
    "# ndim  - 维数 len(shape)\n",
    "# itemsize - 元素字节数\n",
    "# nbytes - 总字节数  = size * itemsize\n",
    "# real - 复数数组的实部数组\n",
    "# imag - 复数数组的虚部数组\n",
    "# T - 数组对象的转置视图\n",
    "# flat - 扁平迭代器\n",
    "a = np.array([\n",
    "    [1+1j,2+4j,3+7j],\n",
    "    [4+2j,5+5j,6+8j],\n",
    "    [7+3j,8+6j,9+9j],\n",
    "])\n",
    "print(a.shape)\n",
    "print(a.dtype)\n",
    "print(a.size)\n",
    "print(a.ndim)\n",
    "print(a.itemsize)\n",
    "print(a.nbytes)\n",
    "print(a.real)\n",
    "print(a.imag)\n",
    "print(a.T)\n",
    "print(a.flat)\n",
    "\n",
    "\n",
    "\n"
   ],
   "metadata": {
    "collapsed": false,
    "pycharm": {
     "name": "#%%\n"
    }
   }
  },
  {
   "cell_type": "code",
   "execution_count": null,
   "outputs": [],
   "source": [
    "\"\"\"\n",
    "    加载文件\n",
    "    直接读取该文件并且获取ndarray数组对象\n",
    "    返回值：\n",
    "        unpack = False              返回一个二维数组\n",
    "        unpack = False              多个一维数组\n",
    "    np.loadtxt(fname,delimiter,usecols,unpack,dtype,converters)\n",
    "        fname                   文件路径\n",
    "        delimiter               分隔符\n",
    "        usecols=(1,3)           读取1、3两列，下标从0开始\n",
    "        unpack                  是否按列拆包\n",
    "        dtype                   指定返回每一列数组中元素的类型\n",
    "        converters={1:func}     转换器函数字典\n",
    "\n",
    "\"\"\"\n",
    "import numpy as np\n",
    "from datetime import datetime\n",
    "def dmy2ymd(dmy):\n",
    "    dmy = str(dmy,encoding=\"utf-8\")\n",
    "    time = datetime.strptime(dmy,\"%d-%m-%Y\").date()\n",
    "    t = time.strftime(\"%Y-%m-%d\")\n",
    "    return t\n",
    "dates,opening_prices,highest_prices,lowest_prices,close_prices=np.loadtxt(fname=\"da_data/aapl.csv\",delimiter=\",\",usecols=(1,3,4,5,6),dtype=\"M8[D],f8,f8,f8,f8\",unpack=True,converters={1:dmy2ymd})\n",
    "# print(res)\n",
    "#绘制直线图\n",
    "from matplotlib import pyplot as plt\n",
    "from matplotlib import dates as dts\n",
    "plt.figure(\"AAPL\",facecolor=\"lightgray\")\n",
    "plt.title(\"AAPL\",fontsize=20)\n",
    "plt.xlabel(\"Date\",fontsize=14)\n",
    "plt.ylabel(\"closing price\",fontsize = 14)\n",
    "plt.grid(linestyle=\":\")\n",
    "#拿到坐标轴\n",
    "ax = plt.gca()\n",
    "#设置主刻度定位器为周定位器（每周一显示主刻度文本）\n",
    "ax.xaxis.set_major_locator( dts.WeekdayLocator(byweekday=dts.MO) )\n",
    "ax.xaxis.set_major_formatter(dts.DateFormatter('%d %b %Y'))\n",
    "#设置次刻度定位器为日定位器\n",
    "ax.xaxis.set_minor_locator(dts.DayLocator())\n",
    "plt.tick_params(labelsize=8)\n",
    "dates = dates.astype(dts.datetime.datetime)\n",
    "plt.plot(dates, opening_prices, color='dodgerblue',\n",
    "\t\tlinestyle='-')\n",
    "plt.gcf().autofmt_xdate()\n",
    "plt.show()\n",
    "\n"
   ],
   "metadata": {
    "collapsed": false,
    "pycharm": {
     "name": "#%%\n"
    }
   }
  },
  {
   "cell_type": "code",
   "execution_count": null,
   "outputs": [],
   "source": [
    "\"\"\"\n",
    "    k线图的绘制\n",
    "\"\"\"\n",
    "import numpy as np\n",
    "from datetime import datetime\n",
    "def dmy2ymd(dmy):\n",
    "    dmy = str(dmy,encoding=\"utf-8\")\n",
    "    time = datetime.strptime(dmy,\"%d-%m-%Y\").date()\n",
    "    t = time.strftime(\"%Y-%m-%d\")\n",
    "    return t\n",
    "dates,opening_prices,highest_prices,lowest_prices,close_prices=np.loadtxt(fname=\"da_data/aapl.csv\",delimiter=\",\",usecols=(1,3,4,5,6),dtype=\"M8[D],f8,f8,f8,f8\",unpack=True,converters={1:dmy2ymd})\n",
    "# print(res)\n",
    "#绘制直线图\n",
    "from matplotlib import pyplot as plt\n",
    "from matplotlib import dates as dts\n",
    "plt.figure(\"AAPL\",facecolor=\"lightgray\")\n",
    "plt.title(\"AAPL\",fontsize=20)\n",
    "plt.xlabel(\"Date\",fontsize=14)\n",
    "plt.ylabel(\"closing price\",fontsize = 14)\n",
    "plt.grid(linestyle=\":\")\n",
    "#拿到坐标轴\n",
    "ax = plt.gca()\n",
    "#设置主刻度定位器为周定位器（每周一显示主刻度文本）\n",
    "ax.xaxis.set_major_locator( dts.WeekdayLocator(byweekday=dts.MO) )\n",
    "ax.xaxis.set_major_formatter(dts.DateFormatter('%d %b %Y'))\n",
    "#设置次刻度定位器为日定位器\n",
    "ax.xaxis.set_minor_locator(dts.DayLocator())\n",
    "plt.tick_params(labelsize=8)\n",
    "dates = dates.astype(dts.datetime.datetime)\n",
    "plt.plot(dates, opening_prices, color='dodgerblue',\n",
    "\t\tlinestyle='--',linewidth=2,alpha=0.3)\n",
    "#整理颜色\n",
    "rise = close_prices > opening_prices\n",
    "# 第一种方法\n",
    "# color = [\"red\" if c else \"green\" for c in rise]\n",
    "# print(color)\n",
    "# 第二种利用掩码\n",
    "color = np.zeros(rise.size,dtype=\"U5\")\n",
    "color[:] = \"green\"\n",
    "color[rise] = \"white\"\n",
    "\n",
    "\n",
    "edgecolor = [\"red\" if c else \"green\" for c in rise]\n",
    "#绘制实体\n",
    "# plt.bar(dates,close_prices-opening_prices,color=color,linewidth=0.8,bottom=opening_prices,edgecolor=\"black\",zorder=3)\n",
    "plt.bar(dates,close_prices-opening_prices,linewidth=0.8,color=color,bottom=opening_prices,edgecolor=edgecolor,zorder=3)\n",
    "#绘制影线\n",
    "plt.vlines(dates,ymin=lowest_prices,ymax=highest_prices,color=edgecolor)\n",
    "\n",
    "plt.legend()\n",
    "plt.gcf().autofmt_xdate()\n",
    "plt.show()\n",
    "\n",
    "\n"
   ],
   "metadata": {
    "collapsed": false,
    "pycharm": {
     "name": "#%%\n"
    }
   }
  }
 ],
 "metadata": {
  "kernelspec": {
   "display_name": "Python 3",
   "language": "python",
   "name": "python3"
  },
  "language_info": {
   "codemirror_mode": {
    "name": "ipython",
    "version": 2
   },
   "file_extension": ".py",
   "mimetype": "text/x-python",
   "name": "python",
   "nbconvert_exporter": "python",
   "pygments_lexer": "ipython2",
   "version": "2.7.6"
  }
 },
 "nbformat": 4,
 "nbformat_minor": 0
}